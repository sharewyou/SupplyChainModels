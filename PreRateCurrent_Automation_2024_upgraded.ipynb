{
 "cells": [
  {
   "cell_type": "markdown",
   "id": "d575b559",
   "metadata": {},
   "source": [
    "# FedExCharge_2024"
   ]
  },
  {
   "cell_type": "code",
   "execution_count": 1,
   "id": "14719779",
   "metadata": {},
   "outputs": [],
   "source": [
    "import pandas as pd\n",
    "import numpy as np\n",
    "\n",
    "FedExClient_2024 = pd.read_excel('C:\\\\Users\\\\sliu\\\\BD\\\\re-rate_model\\\\1-2-1.FedExClient_2024.xlsx')\n",
    "FedExDiscount_2024 = pd.read_excel('C:\\\\Users\\\\sliu\\\\BD\\\\re-rate_model\\\\1-2-2.FedExDiscount_2024.xlsx')\n",
    "UPSCharge_2024 = pd.read_excel('C:\\\\Users\\\\sliu\\\\BD\\\\re-rate_model\\\\1-1.UPSCharge_2024.xlsx')\n"
   ]
  },
  {
   "cell_type": "code",
   "execution_count": 2,
   "id": "dcdb3e0b",
   "metadata": {},
   "outputs": [],
   "source": [
    "# Adding a temporary key column for joining\n",
    "FedExClient_2024['key'] = 1\n",
    "FedExDiscount_2024['key'] = 1\n",
    "\n",
    "# Performing the cross join\n",
    "FedExCharge_2024 = pd.merge(FedExClient_2024, FedExDiscount_2024, on='key').drop('key', axis=1)\n"
   ]
  },
  {
   "cell_type": "code",
   "execution_count": 3,
   "id": "f088b230",
   "metadata": {},
   "outputs": [],
   "source": [
    "FedExCharge_2024 = FedExCharge_2024.merge(\n",
    "    UPSCharge_2024[[\"UPS ACCT #\", \"CompanyID\", \"Company\", \"UPSServiceCode\", \"UPSServiceName\", \"UPSServiceNote\", \"UPSMin\", \"UPSPrice\", \"PriceType\", \"StartDate\", \"EndDate\"]],\n",
    "    left_on=['CompanyID', 'UPSServiceCode', 'UPSServiceNote'],\n",
    "    right_on=['CompanyID', 'UPSServiceCode', 'UPSServiceNote'],\n",
    "    how='left',\n",
    "    suffixes=('_x', '_y')  # Explicitly state suffixes to handle duplicate column names\n",
    ")\n",
    "\n",
    "# Rename 'Company_x' to 'Company' and drop 'Company_y'\n",
    "FedExCharge_2024 = FedExCharge_2024.rename(columns={'Company_x': 'Company'}).drop('Company_y', axis=1)\n",
    "FedExCharge_2024 = FedExCharge_2024.rename(columns={'UPSServiceName_x': 'UPSServiceName'}).drop('UPSServiceName_y', axis=1)\n"
   ]
  },
  {
   "cell_type": "code",
   "execution_count": 4,
   "id": "7ead08d3",
   "metadata": {},
   "outputs": [
    {
     "data": {
      "text/plain": [
       "Index(['CompanyID', 'Company', 'FedExServiceCode', 'FedExServiceName',\n",
       "       'FedExServiceNote', 'UPSServiceCode', 'UPSServiceName',\n",
       "       'UPSServiceNote', 'FURatio', 'UPS ACCT #', 'UPSMin', 'UPSPrice',\n",
       "       'PriceType', 'StartDate', 'EndDate'],\n",
       "      dtype='object')"
      ]
     },
     "execution_count": 4,
     "metadata": {},
     "output_type": "execute_result"
    }
   ],
   "source": [
    "FedExCharge_2024.columns"
   ]
  },
  {
   "cell_type": "code",
   "execution_count": 5,
   "id": "5b1fc876",
   "metadata": {},
   "outputs": [],
   "source": [
    "# Create a mask for the specific conditions\n",
    "mask1 = (FedExCharge_2024['FedExServiceCode'] == 'SPST') & (FedExCharge_2024['FedExServiceNote'] == '4-70lbs')\n",
    "\n",
    "# Calculate the mean price only for the filtered rows\n",
    "FedExCharge_2024.loc[mask1, 'FedExPrice'] = FedExCharge_2024.loc[mask1].groupby(['CompanyID', 'Company', 'FedExServiceCode', 'FedExServiceName', 'FedExServiceNote'])['UPSPrice'].transform('mean')\n",
    "\n",
    "FedExCharge_2024.loc[mask1, 'FedExPrice'] = round(1-(1-FedExCharge_2024['FedExPrice'])/FedExCharge_2024['FURatio'],3)\n"
   ]
  },
  {
   "cell_type": "code",
   "execution_count": 6,
   "id": "6c6faf17",
   "metadata": {},
   "outputs": [],
   "source": [
    "\n",
    "# Create a mask for the specific conditions\n",
    "mask2 = ~((FedExCharge_2024['FedExServiceCode'] == 'SPST') & (FedExCharge_2024['FedExServiceNote'] == '4-70lbs'))\n",
    "\n",
    "FedExCharge_2024.loc[mask2, 'FedExPrice'] = round(1-(1-FedExCharge_2024['UPSPrice'])/FedExCharge_2024['FURatio'],3)\n"
   ]
  },
  {
   "cell_type": "code",
   "execution_count": 7,
   "id": "acabe9d3",
   "metadata": {},
   "outputs": [],
   "source": [
    "\n",
    "# Create a mask for the specific conditions\n",
    "mask3 = FedExCharge_2024['FURatio'].isna() & FedExCharge_2024['FedExServiceCode'].notna()\n",
    "\n",
    "FedExCharge_2024.loc[mask3, 'FedExPrice'] = FedExCharge_2024['UPSPrice']"
   ]
  },
  {
   "cell_type": "code",
   "execution_count": 8,
   "id": "b1ef7981",
   "metadata": {},
   "outputs": [
    {
     "name": "stderr",
     "output_type": "stream",
     "text": [
      "C:\\Users\\sliu\\AppData\\Local\\Temp\\ipykernel_13884\\3283895371.py:13: FutureWarning: Not prepending group keys to the result index of transform-like apply. In the future, the group keys will be included in the index, regardless of whether the applied function returns a like-indexed object.\n",
      "To preserve the previous behavior, use\n",
      "\n",
      "\t>>> .groupby(..., group_keys=False)\n",
      "\n",
      "To adopt the future behavior and silence this warning, use \n",
      "\n",
      "\t>>> .groupby(..., group_keys=True)\n",
      "  FedExCharge_2024 = FedExCharge_2024.groupby('CompanyID').apply(update_new)\n"
     ]
    }
   ],
   "source": [
    "\n",
    "# Define the function to update the 'New' value within each group\n",
    "def update_new(group):\n",
    "    # Get the 'FedExPrice' value where 'FedExServiceCode' is 'DASFCG' within the group\n",
    "    target_new_value = group.loc[group['FedExServiceCode'] == 'DASFCG', 'FedExPrice']\n",
    "    if not target_new_value.empty:\n",
    "        target_new_value = target_new_value.iloc[0]  # Take the first if there are multiple\n",
    "        # Set 'FedExPrice' where 'FedExServiceCode' is in the specified list\n",
    "        mask4 = group['FedExServiceCode'].isin(['FREM', 'FREMAK', 'FREMHI'])\n",
    "        group.loc[mask4, 'FedExPrice'] = target_new_value\n",
    "    return group\n",
    "\n",
    "# Apply the function to each group formed by 'CompanyID'\n",
    "FedExCharge_2024 = FedExCharge_2024.groupby('CompanyID').apply(update_new)\n"
   ]
  },
  {
   "cell_type": "code",
   "execution_count": 9,
   "id": "2e317438",
   "metadata": {},
   "outputs": [
    {
     "data": {
      "text/plain": [
       "Index(['CompanyID', 'Company', 'FedExServiceCode', 'FedExServiceName',\n",
       "       'FedExServiceNote', 'UPSServiceCode', 'UPSServiceName',\n",
       "       'UPSServiceNote', 'FURatio', 'UPS ACCT #', 'UPSMin', 'UPSPrice',\n",
       "       'PriceType', 'StartDate', 'EndDate', 'FedExPrice'],\n",
       "      dtype='object')"
      ]
     },
     "execution_count": 9,
     "metadata": {},
     "output_type": "execute_result"
    }
   ],
   "source": [
    "FedExCharge_2024.columns"
   ]
  },
  {
   "cell_type": "code",
   "execution_count": 10,
   "id": "fd134ba0",
   "metadata": {},
   "outputs": [],
   "source": [
    "\n",
    "# Specify the columns to be dropped\n",
    "columns_to_drop = ['UPSServiceCode', 'UPSServiceName',\n",
    "       'UPSServiceNote', 'FURatio', 'UPSPrice']\n",
    "\n",
    "# Drop the columns from the DataFrame\n",
    "FedExCharge_2024 = FedExCharge_2024.drop(columns=columns_to_drop)\n"
   ]
  },
  {
   "cell_type": "code",
   "execution_count": 11,
   "id": "9ef84395",
   "metadata": {},
   "outputs": [],
   "source": [
    "# Specify the new order of your columns\n",
    "new_order = ['UPS ACCT #', 'CompanyID', 'Company', 'FedExServiceCode', 'FedExServiceName',\n",
    "       'FedExServiceNote', 'UPSMin', 'FedExPrice', 'PriceType', 'StartDate', 'EndDate'] \n",
    "\n",
    "# Reorder the columns using the new order\n",
    "FedExCharge_2024 = FedExCharge_2024[new_order]\n"
   ]
  },
  {
   "cell_type": "code",
   "execution_count": 12,
   "id": "68573d19",
   "metadata": {},
   "outputs": [
    {
     "data": {
      "text/plain": [
       "Index(['UPS ACCT #', 'CompanyID', 'Company', 'FedExServiceCode',\n",
       "       'FedExServiceName', 'FedExServiceNote', 'UPSMin', 'FedExPrice',\n",
       "       'PriceType', 'StartDate', 'EndDate'],\n",
       "      dtype='object')"
      ]
     },
     "execution_count": 12,
     "metadata": {},
     "output_type": "execute_result"
    }
   ],
   "source": [
    "FedExCharge_2024.columns"
   ]
  },
  {
   "cell_type": "code",
   "execution_count": 13,
   "id": "40a49690",
   "metadata": {},
   "outputs": [],
   "source": [
    "# Rename columns \n",
    "FedExCharge_2024 = FedExCharge_2024.rename(columns={\n",
    "    'UPSMin': 'FedExMin'\n",
    "})"
   ]
  },
  {
   "cell_type": "code",
   "execution_count": 14,
   "id": "e0e04c4a",
   "metadata": {},
   "outputs": [],
   "source": [
    "# Drop columns that are completely blank\n",
    "FedExCharge_2024 = FedExCharge_2024.dropna(axis=1, how='all')\n",
    "\n",
    "# Drop rows that are completely blank\n",
    "FedExCharge_2024 = FedExCharge_2024.dropna(axis=0, how='all')\n"
   ]
  },
  {
   "cell_type": "code",
   "execution_count": 15,
   "id": "356535f2",
   "metadata": {},
   "outputs": [],
   "source": [
    "# Drop columns that are duplicated. \n",
    "FedExCharge_2024 = FedExCharge_2024.drop_duplicates()"
   ]
  },
  {
   "cell_type": "code",
   "execution_count": 16,
   "id": "2ad1395c",
   "metadata": {},
   "outputs": [],
   "source": [
    "\n",
    "# Specify the values to filter out\n",
    "values_to_remove = [\n",
    "    'FedEx Priority Express Import', \n",
    "    'FedEx Priority Import', \n",
    "    'FedEx Economy Import'\n",
    "]\n",
    "\n",
    "# Create a mask that is True for rows where 'Service' is not in the values_to_remove\n",
    "mask = ~FedExCharge_2024['FedExServiceName'].isin(values_to_remove)\n",
    "\n",
    "# Use the mask to filter the DataFrame\n",
    "FedExCharge_2024 = FedExCharge_2024[mask]\n",
    "\n"
   ]
  },
  {
   "cell_type": "code",
   "execution_count": 17,
   "id": "94fc8e4a",
   "metadata": {},
   "outputs": [],
   "source": [
    "\n",
    "# Drop rows where 'FedexServiceCode' is null\n",
    "FedExCharge_2024 = FedExCharge_2024.dropna(subset=['FedExServiceCode'])\n"
   ]
  },
  {
   "cell_type": "code",
   "execution_count": 18,
   "id": "362be8a9",
   "metadata": {},
   "outputs": [],
   "source": [
    "FedExCharge_2024.to_excel('FedExCharge_2024.xlsx')"
   ]
  },
  {
   "cell_type": "markdown",
   "id": "c87a476a",
   "metadata": {},
   "source": [
    "# ZipToZone"
   ]
  },
  {
   "cell_type": "code",
   "execution_count": 63,
   "id": "351942e1",
   "metadata": {},
   "outputs": [],
   "source": [
    "xls = pd.ExcelFile('6-1.ZipToZoneUPS.xlsx')\n",
    "\n",
    "# List of sheet names. Using a dictionary comprehension to load sheets into a dictionary of dataframes\n",
    "sheets = [\n",
    "    '02038_Outbound', '08873_Outbound', '21226_Outbound', '38141_Outbound', '38654_Outbound', \n",
    "    '75041_Outbound', '90640_Outbound', '02324_Outbound', '06096_Outbound', '18105_Outbound', \n",
    "    '21240_Outbound', '43004_Outbound'\n",
    "]\n",
    "\n",
    "dfs = {sheet: pd.read_excel(xls, sheet) for sheet in sheets}\n",
    "\n",
    "ZipToZoneUPS = pd.concat([dfs['02038_Outbound'], dfs['08873_Outbound'], dfs['21226_Outbound'], dfs['38141_Outbound'], dfs['38654_Outbound'], \n",
    "                       dfs['75041_Outbound'], dfs['90640_Outbound'], dfs['02324_Outbound'], dfs['06096_Outbound'], dfs['18105_Outbound'], \n",
    "                       dfs['21240_Outbound'], dfs['43004_Outbound']])\n",
    "\n",
    "ZipToZoneUPS.to_csv('ZipToZoneUPS.csv')"
   ]
  },
  {
   "cell_type": "code",
   "execution_count": 64,
   "id": "c0863609",
   "metadata": {},
   "outputs": [],
   "source": [
    "xlsf = pd.ExcelFile('6-2.ZipToZoneFedex.xlsx')\n",
    "\n",
    "# List of sheet names\n",
    "sheetsf = [\n",
    "    'TDR29112023_18101_FXG', 'TDR29112023_18101_FHD', 'TDR14122023_90640_FXG', 'TDR14122023_90640_FHD', 'TDR14122023_75041_FXG', \n",
    "    'TDR14122023_75041_FHD', 'TDR14122023_38654_FXG', 'TDR14122023_38654_FHD', 'TDR14122023_38141_FXG', 'TDR14122023_38141_FHD', \n",
    "    'TDR14122023_21226_FXG', 'TDR14122023_21226_FHD', 'TDR14122023_08873_FXG', 'TDR14122023_08873_FHD', 'TDR14122023_02038_FXG',\n",
    "    'TDR14122023_02038_FHD'\n",
    "]\n",
    "\n",
    "# Load each sheet into a DataFrame and add a 'FileName' column to identify each sheet\n",
    "dfsf = {sheet: pd.read_excel(xlsf, sheet_name=sheet).assign(FileName=sheet) for sheet in sheetsf}\n",
    "\n",
    "# Concatenate all DataFrames together\n",
    "ZipToZoneFedex = pd.concat(dfsf.values(), ignore_index=True)\n",
    "\n",
    "ZipToZoneFedex.to_csv('ZipToZoneFedex.csv')"
   ]
  },
  {
   "cell_type": "code",
   "execution_count": null,
   "id": "a6c2e084",
   "metadata": {},
   "outputs": [],
   "source": []
  },
  {
   "cell_type": "code",
   "execution_count": null,
   "id": "bdf728a4",
   "metadata": {},
   "outputs": [],
   "source": []
  },
  {
   "cell_type": "code",
   "execution_count": null,
   "id": "9a0014ee",
   "metadata": {},
   "outputs": [],
   "source": []
  },
  {
   "cell_type": "code",
   "execution_count": null,
   "id": "43dc3676",
   "metadata": {},
   "outputs": [],
   "source": []
  },
  {
   "cell_type": "code",
   "execution_count": null,
   "id": "5b1a09c4",
   "metadata": {},
   "outputs": [],
   "source": []
  }
 ],
 "metadata": {
  "kernelspec": {
   "display_name": "Python 3 (ipykernel)",
   "language": "python",
   "name": "python3"
  },
  "language_info": {
   "codemirror_mode": {
    "name": "ipython",
    "version": 3
   },
   "file_extension": ".py",
   "mimetype": "text/x-python",
   "name": "python",
   "nbconvert_exporter": "python",
   "pygments_lexer": "ipython3",
   "version": "3.11.7"
  }
 },
 "nbformat": 4,
 "nbformat_minor": 5
}
